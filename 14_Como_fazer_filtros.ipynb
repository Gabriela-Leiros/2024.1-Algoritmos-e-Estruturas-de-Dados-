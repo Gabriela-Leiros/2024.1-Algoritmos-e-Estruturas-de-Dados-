{
  "nbformat": 4,
  "nbformat_minor": 0,
  "metadata": {
    "colab": {
      "provenance": [],
      "authorship_tag": "ABX9TyOB0HIUxLv8MeN54qBuz3xD",
      "include_colab_link": true
    },
    "kernelspec": {
      "name": "python3",
      "display_name": "Python 3"
    },
    "language_info": {
      "name": "python"
    }
  },
  "cells": [
    {
      "cell_type": "markdown",
      "metadata": {
        "id": "view-in-github",
        "colab_type": "text"
      },
      "source": [
        "<a href=\"https://colab.research.google.com/github/Gabriela-Leiros/2024.1-Algoritmos-e-Estruturas-de-Dados-Gabriela-Leiros/blob/main/14_Como_fazer_filtros.ipynb\" target=\"_parent\"><img src=\"https://colab.research.google.com/assets/colab-badge.svg\" alt=\"Open In Colab\"/></a>"
      ]
    },
    {
      "cell_type": "code",
      "execution_count": 1,
      "metadata": {
        "colab": {
          "base_uri": "https://localhost:8080/"
        },
        "id": "IQNaCR-Dz3HU",
        "outputId": "839b31d7-1a89-44a7-949d-634ed9812a7b"
      },
      "outputs": [
        {
          "output_type": "stream",
          "name": "stdout",
          "text": [
            "[1, 2, 3, 4, 5, 6]\n"
          ]
        }
      ],
      "source": [
        "M = [1,2,3,4,5,6] #unidimensional\n",
        "print(M)"
      ]
    },
    {
      "cell_type": "code",
      "source": [
        "M = [[1,1,1],[1,1,1], [1,1,1]] #bidimensional\n",
        "print(M)\n",
        "M = [[1]*3]*3 #bidimensional\n",
        "print(M)"
      ],
      "metadata": {
        "colab": {
          "base_uri": "https://localhost:8080/"
        },
        "id": "9EkjHizH0N5Q",
        "outputId": "72665cbd-6070-4899-ffa5-5e25b53923b8"
      },
      "execution_count": 3,
      "outputs": [
        {
          "output_type": "stream",
          "name": "stdout",
          "text": [
            "[[1, 1, 1], [1, 1, 1], [1, 1, 1]]\n",
            "[[1, 1, 1], [1, 1, 1], [1, 1, 1]]\n"
          ]
        }
      ]
    },
    {
      "cell_type": "code",
      "source": [
        "#https://youtu.be/3SjypFc_wuU?feature=shared 4 dimensão explicada por Carl Sagan"
      ],
      "metadata": {
        "id": "M1kMZCcw3ILk"
      },
      "execution_count": null,
      "outputs": []
    }
  ]
}