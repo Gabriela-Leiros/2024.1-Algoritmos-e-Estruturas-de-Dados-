{
  "nbformat": 4,
  "nbformat_minor": 0,
  "metadata": {
    "colab": {
      "provenance": [],
      "include_colab_link": true
    },
    "kernelspec": {
      "name": "python3",
      "display_name": "Python 3"
    },
    "language_info": {
      "name": "python"
    }
  },
  "cells": [
    {
      "cell_type": "markdown",
      "metadata": {
        "id": "view-in-github",
        "colab_type": "text"
      },
      "source": [
        "<a href=\"https://colab.research.google.com/github/Gabriela-Leiros/2024.1-Algoritmos-e-Estruturas-de-Dados-Gabriela-Leiros/blob/main/13_vetores_introducao.ipynb\" target=\"_parent\"><img src=\"https://colab.research.google.com/assets/colab-badge.svg\" alt=\"Open In Colab\"/></a>"
      ]
    },
    {
      "cell_type": "code",
      "execution_count": null,
      "metadata": {
        "colab": {
          "base_uri": "https://localhost:8080/"
        },
        "id": "CQpJQylifS6O",
        "outputId": "15b8cfec-6539-4a71-8bfb-4de05a9b70c8"
      },
      "outputs": [
        {
          "output_type": "stream",
          "name": "stdout",
          "text": [
            "Familia Revoredo\n",
            "Familia Menezes\n"
          ]
        }
      ],
      "source": [
        "#Considere um edificio com diversas familias e/ou moradores por andar\n",
        "edificio_terreo = \"Familia Revoredo\"\n",
        "edificio_1o_andar = \"Familia Menezes\"\n",
        "edificio_2o_andar = \"Familia Martins\"\n",
        "edificio_3o_andar = \"Familia Pinheiro\"\n",
        "\n",
        "#Como atribuir em localizacoes do vetor, abstraindo o andar\n",
        "edificio = [\n",
        "    edificio_terreo,\n",
        "    edificio_1o_andar,\n",
        "    edificio_2o_andar,\n",
        "    edificio_3o_andar\n",
        "]\n",
        "\n",
        "print(edificio[0])\n",
        "print(edificio[1])"
      ]
    },
    {
      "cell_type": "code",
      "source": [
        "#Em python, os vetores são chamados de listas e podem conter dados de  diferentes tipos\n",
        "#novos dados são acrescentados com a função append()\n",
        "#listas permitem a alteração de seus elementos.\n",
        "#python formatting strings"
      ],
      "metadata": {
        "id": "uQQtTilAg56_"
      },
      "execution_count": null,
      "outputs": []
    },
    {
      "cell_type": "code",
      "source": [
        "my_array = [7, 24, \"Fish\", \"hat stand\"]\n",
        "print(my_array[2])"
      ],
      "metadata": {
        "id": "Sg1h2rInhHJ-",
        "outputId": "fd47d0e3-1703-41e3-be49-fe4055e83938",
        "colab": {
          "base_uri": "https://localhost:8080/"
        }
      },
      "execution_count": 1,
      "outputs": [
        {
          "output_type": "stream",
          "name": "stdout",
          "text": [
            "Fish\n"
          ]
        }
      ]
    },
    {
      "cell_type": "code",
      "source": [
        "my_words = [\"Dudes\", \"and\"]\n",
        "print(my_words[0])\n",
        "print(my_words[1])\n",
        "my_words.append(\"Bettys\")\n",
        "print(my_words[2])"
      ],
      "metadata": {
        "id": "wRObOjYfhaoN",
        "outputId": "e7f765b7-e813-473f-fd7f-b4691d89b283",
        "colab": {
          "base_uri": "https://localhost:8080/"
        }
      },
      "execution_count": 2,
      "outputs": [
        {
          "output_type": "stream",
          "name": "stdout",
          "text": [
            "Dudes\n",
            "and\n",
            "Bettys\n"
          ]
        }
      ]
    },
    {
      "cell_type": "code",
      "source": [
        "#Lista vazia\n",
        "lista = []\n",
        "\n",
        "#Uma lista com tres notas\n",
        "notas = [7.5, 9, 8.3]\n",
        "\n",
        "#Acessar uma nota\n",
        "print(notas[0])\n",
        "\n",
        "#Modificar uma nota\n",
        "notas[0] = 8.7\n",
        "print(notas[0])\n"
      ],
      "metadata": {
        "id": "3n7wze0ciRW0",
        "outputId": "bdc1c529-3be0-4c78-ea65-5d48d153a240",
        "colab": {
          "base_uri": "https://localhost:8080/"
        }
      },
      "execution_count": 3,
      "outputs": [
        {
          "output_type": "stream",
          "name": "stdout",
          "text": [
            "7.5\n",
            "8.7\n"
          ]
        }
      ]
    },
    {
      "cell_type": "code",
      "source": [
        "#Calcule a média de 5 notas\n",
        "notas = [6,7,5,8,9]\n",
        "soma = 0 #Acumulador\n",
        "x = 0 #iteração\n",
        "while(x<5):\n",
        "  #somador\n",
        "  #soma = soma + notas[x]\n",
        "  soma += notas[x]\n",
        "\n",
        "#Impressão para depuração\n",
        "#print(x)\n",
        "#print(soma)\n",
        "#x = x + 1\n",
        "x += 1\n",
        "print(\"A média: %5.3f\" % (soma/x))"
      ],
      "metadata": {
        "id": "8LLUzmaXjhiw"
      },
      "execution_count": null,
      "outputs": []
    }
  ]
}