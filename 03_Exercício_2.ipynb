{
  "nbformat": 4,
  "nbformat_minor": 0,
  "metadata": {
    "colab": {
      "provenance": [],
      "authorship_tag": "ABX9TyOFYfhVkMDkPpO8JfJ1WeHr",
      "include_colab_link": true
    },
    "kernelspec": {
      "name": "python3",
      "display_name": "Python 3"
    },
    "language_info": {
      "name": "python"
    }
  },
  "cells": [
    {
      "cell_type": "markdown",
      "metadata": {
        "id": "view-in-github",
        "colab_type": "text"
      },
      "source": [
        "<a href=\"https://colab.research.google.com/github/Gabriela-Leiros/2024.1-Algoritmos-e-Estruturas-de-Dados-Gabriela-Leiros/blob/main/03_Exerc%C3%ADcio_2.ipynb\" target=\"_parent\"><img src=\"https://colab.research.google.com/assets/colab-badge.svg\" alt=\"Open In Colab\"/></a>"
      ]
    },
    {
      "cell_type": "code",
      "source": [
        "print(\"Calculadora de média ponderada do IFRN\")\n",
        "#float, tipagem explicíta, para garantir número fracionário\n",
        "n1 = float( input (\"Digite a nota 1 (Com peso 2): \"))\n",
        "n2 = float( input (\"Digite a nota 2 (Com peso 3): \"))\n",
        "\n",
        "#Calculo da média ponderada\n",
        "media = (n1 * 2 + n2 * 3) / 5\n",
        "\n",
        "#Impressão da média\n",
        "#F inicial: caractere de escape para o rodar o .2f (f = formatação)\n",
        "print(f\"A média ponderada das notas é: {media: .2f}\")\n",
        "\n",
        "#apresentar se o aluno foi aprovado ou não\n",
        "if media >= 6:\n",
        "  print(\"Aprovado\")\n",
        "else:\n",
        "  if n1 >= 4 and n2 >=4:\n",
        "    print(\"Prova final\")\n",
        "  else:\n",
        "    print(\"Reprovado\")\n"
      ],
      "metadata": {
        "colab": {
          "base_uri": "https://localhost:8080/"
        },
        "id": "UpOVAbGBav_Q",
        "outputId": "0aa02ac7-02d8-418c-989f-6e8934c5da00"
      },
      "execution_count": 5,
      "outputs": [
        {
          "output_type": "stream",
          "name": "stdout",
          "text": [
            "Calculadora de média ponderada do IFRN\n",
            "Digite a nota 1 (Com peso 2): 7\n",
            "Digite a nota 2 (Com peso 3): 6\n",
            "A média ponderada das notas é:  6.40\n",
            "Aprovado\n"
          ]
        }
      ]
    }
  ]
}