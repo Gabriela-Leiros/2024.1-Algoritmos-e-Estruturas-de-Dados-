{
  "nbformat": 4,
  "nbformat_minor": 0,
  "metadata": {
    "colab": {
      "provenance": [],
      "authorship_tag": "ABX9TyPfxhdc04jU0W+H5c0RPByh",
      "include_colab_link": true
    },
    "kernelspec": {
      "name": "python3",
      "display_name": "Python 3"
    },
    "language_info": {
      "name": "python"
    }
  },
  "cells": [
    {
      "cell_type": "markdown",
      "metadata": {
        "id": "view-in-github",
        "colab_type": "text"
      },
      "source": [
        "<a href=\"https://colab.research.google.com/github/Gabriela-Leiros/2024.1-Algoritmos-e-Estruturas-de-Dados-Gabriela-Leiros/blob/main/02_m%C3%A9dia_nota_ifrn.ipynb\" target=\"_parent\"><img src=\"https://colab.research.google.com/assets/colab-badge.svg\" alt=\"Open In Colab\"/></a>"
      ]
    },
    {
      "cell_type": "markdown",
      "source": [
        "Calculadora de média ponderada IFRN"
      ],
      "metadata": {
        "id": "nBS3av8jxcUz"
      }
    },
    {
      "cell_type": "code",
      "source": [
        "print(\"Calculadora de média ponderada do IFRN\")\n",
        "#float, tipagem explicíta, para garantir número fracionário\n",
        "n1 = float( input (\"Digite a nota 1 (Com peso 2): \"))\n",
        "n2 = float( input (\"Digite a nota 2 (Com peso 3): \"))\n",
        "\n",
        "#Calculo da média ponderada\n",
        "media = (n1 * 2 + n2 * 3) / 5\n",
        "\n",
        "#Impressão da média\n",
        "#F inicial: caractere de escape para o rodar o .2f (f = formatação)\n",
        "print(f\"A média ponderada das notas é: {media: .2f}\")"
      ],
      "metadata": {
        "colab": {
          "base_uri": "https://localhost:8080/"
        },
        "id": "-MuIevwIxjWi",
        "outputId": "b7700dfb-4621-490d-9413-e7d74fa34e9f"
      },
      "execution_count": 12,
      "outputs": [
        {
          "output_type": "stream",
          "name": "stdout",
          "text": [
            "Calculadora de média ponderada do IFRN\n",
            "Digite a nota 1 (Com peso 2): 4.8\n",
            "Digite a nota 2 (Com peso 3): 5\n",
            "A média ponderada das notas é:  4.92\n"
          ]
        }
      ]
    }
  ]
}