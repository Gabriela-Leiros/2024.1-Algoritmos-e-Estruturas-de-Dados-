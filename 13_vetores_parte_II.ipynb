{
  "nbformat": 4,
  "nbformat_minor": 0,
  "metadata": {
    "colab": {
      "provenance": [],
      "include_colab_link": true
    },
    "kernelspec": {
      "name": "python3",
      "display_name": "Python 3"
    },
    "language_info": {
      "name": "python"
    }
  },
  "cells": [
    {
      "cell_type": "markdown",
      "metadata": {
        "id": "view-in-github",
        "colab_type": "text"
      },
      "source": [
        "<a href=\"https://colab.research.google.com/github/Gabriela-Leiros/2024.1-Algoritmos-e-Estruturas-de-Dados-Gabriela-Leiros/blob/main/13_vetores_parte_II.ipynb\" target=\"_parent\"><img src=\"https://colab.research.google.com/assets/colab-badge.svg\" alt=\"Open In Colab\"/></a>"
      ]
    },
    {
      "cell_type": "code",
      "execution_count": null,
      "metadata": {
        "colab": {
          "base_uri": "https://localhost:8080/"
        },
        "id": "CQpJQylifS6O",
        "outputId": "15b8cfec-6539-4a71-8bfb-4de05a9b70c8"
      },
      "outputs": [
        {
          "output_type": "stream",
          "name": "stdout",
          "text": [
            "Familia Revoredo\n",
            "Familia Menezes\n"
          ]
        }
      ],
      "source": [
        "#Considere um edificio com diversas familias e/ou moradores por andar\n",
        "edificio_terreo = \"Familia Revoredo\"\n",
        "edificio_1o_andar = \"Familia Menezes\"\n",
        "edificio_2o_andar = \"Familia Martins\"\n",
        "edificio_3o_andar = \"Familia Pinheiro\"\n",
        "\n",
        "#Como atribuir em localizacoes do vetor, abstraindo o andar\n",
        "edificio = [\n",
        "    edificio_terreo,\n",
        "    edificio_1o_andar,\n",
        "    edificio_2o_andar,\n",
        "    edificio_3o_andar\n",
        "]\n",
        "\n",
        "print(edificio[0])\n",
        "print(edificio[1])"
      ]
    },
    {
      "cell_type": "code",
      "source": [
        "#Em python, os vetores são chamados de listas e podem conter dados de  diferentes tipos\n",
        "#novos dados são acrescentados com a função append()\n",
        "#listas permitem a alteração de seus elementos.\n",
        "#python formatting strings"
      ],
      "metadata": {
        "id": "uQQtTilAg56_"
      },
      "execution_count": null,
      "outputs": []
    },
    {
      "cell_type": "code",
      "source": [
        "my_array = [7, 24, \"Fish\", \"hat stand\"]\n",
        "print(my_array[2])"
      ],
      "metadata": {
        "id": "Sg1h2rInhHJ-",
        "outputId": "fd47d0e3-1703-41e3-be49-fe4055e83938",
        "colab": {
          "base_uri": "https://localhost:8080/"
        }
      },
      "execution_count": null,
      "outputs": [
        {
          "output_type": "stream",
          "name": "stdout",
          "text": [
            "Fish\n"
          ]
        }
      ]
    },
    {
      "cell_type": "code",
      "source": [
        "my_words = [\"Dudes\", \"and\"]\n",
        "print(my_words[0])\n",
        "print(my_words[1])\n",
        "my_words.append(\"Bettys\")\n",
        "print(my_words[2])"
      ],
      "metadata": {
        "id": "wRObOjYfhaoN",
        "outputId": "e7f765b7-e813-473f-fd7f-b4691d89b283",
        "colab": {
          "base_uri": "https://localhost:8080/"
        }
      },
      "execution_count": null,
      "outputs": [
        {
          "output_type": "stream",
          "name": "stdout",
          "text": [
            "Dudes\n",
            "and\n",
            "Bettys\n"
          ]
        }
      ]
    },
    {
      "cell_type": "code",
      "source": [
        "#Lista vazia\n",
        "lista = []\n",
        "\n",
        "#Uma lista com tres notas\n",
        "notas = [7.5, 9, 8.3]\n",
        "\n",
        "#Acessar uma nota\n",
        "print(notas[0])\n",
        "\n",
        "#Modificar uma nota\n",
        "notas[0] = 8.7\n",
        "print(notas[0])\n"
      ],
      "metadata": {
        "id": "3n7wze0ciRW0",
        "outputId": "bdc1c529-3be0-4c78-ea65-5d48d153a240",
        "colab": {
          "base_uri": "https://localhost:8080/"
        }
      },
      "execution_count": null,
      "outputs": [
        {
          "output_type": "stream",
          "name": "stdout",
          "text": [
            "7.5\n",
            "8.7\n"
          ]
        }
      ]
    },
    {
      "cell_type": "code",
      "source": [
        "#Calcule a média de 5 notas\n",
        "notas = [6,7,5,8,9]\n",
        "soma = 0 #Acumulador\n",
        "x = 0 #iteração\n",
        "while(x<5):\n",
        "  #somador\n",
        "  #soma = soma + notas[x]\n",
        "  soma += notas[x]\n",
        "\n",
        "#Impressão para depuração\n",
        "#print(x)\n",
        "#print(soma)\n",
        "#x = x + 1\n",
        "x += 1\n",
        "print(\"A média: %5.3f\" % (soma/x))"
      ],
      "metadata": {
        "id": "8LLUzmaXjhiw"
      },
      "execution_count": null,
      "outputs": []
    },
    {
      "cell_type": "code",
      "source": [
        "palavras = ['guerra', 'paz', 'vida', 'tranquilidade']\n",
        "'guerra' in palavras\n",
        "'saúde' in palavras"
      ],
      "metadata": {
        "id": "uJEjHn01rWej",
        "colab": {
          "base_uri": "https://localhost:8080/"
        },
        "outputId": "1cb1cd1b-3e02-4114-8ec7-1e3042a18aeb"
      },
      "execution_count": 1,
      "outputs": [
        {
          "output_type": "execute_result",
          "data": {
            "text/plain": [
              "False"
            ]
          },
          "metadata": {},
          "execution_count": 1
        }
      ]
    },
    {
      "cell_type": "code",
      "source": [
        "for numero in range(20):\n",
        "#print(numero)\n",
        "  if (numero % 2 == 0):\n",
        "    print(numero)\n"
      ],
      "metadata": {
        "id": "zu6D9ajNr7E-",
        "colab": {
          "base_uri": "https://localhost:8080/"
        },
        "outputId": "82169018-640a-43b0-eea2-fb7082bd0255"
      },
      "execution_count": 4,
      "outputs": [
        {
          "output_type": "stream",
          "name": "stdout",
          "text": [
            "0\n",
            "2\n",
            "4\n",
            "6\n",
            "8\n",
            "10\n",
            "12\n",
            "14\n",
            "16\n",
            "18\n"
          ]
        }
      ]
    },
    {
      "cell_type": "code",
      "source": [
        "for fruta in ['banana', 'abacaxi', 'laranja']:\n",
        "  print(\"Eu gosto de comer: \"+ fruta)"
      ],
      "metadata": {
        "id": "TZn8gjz0sV-2",
        "outputId": "734851df-0b4f-4d06-ec41-58f3c307cedd",
        "colab": {
          "base_uri": "https://localhost:8080/"
        }
      },
      "execution_count": null,
      "outputs": [
        {
          "output_type": "stream",
          "name": "stdout",
          "text": [
            "Eu gosto de comer: banana\n",
            "Eu gosto de comer: abacaxi\n",
            "Eu gosto de comer: laranja\n"
          ]
        }
      ]
    },
    {
      "cell_type": "code",
      "source": [
        "#Operações com listas\n",
        "\n",
        "#Concatenação\n",
        "a = [1,2,3]\n",
        "b = [4,5,6]\n",
        "c = a + b\n",
        "print(c)"
      ],
      "metadata": {
        "id": "o9faMySaspzb",
        "outputId": "27a13adb-ae29-472c-c3e2-e47fe131b868",
        "colab": {
          "base_uri": "https://localhost:8080/"
        }
      },
      "execution_count": null,
      "outputs": [
        {
          "output_type": "stream",
          "name": "stdout",
          "text": [
            "[1, 2, 3, 4, 5, 6]\n"
          ]
        }
      ]
    },
    {
      "cell_type": "code",
      "source": [
        "#Repetição\n",
        "d = [0] * 4\n",
        "print(d)\n",
        "\n",
        "e = [1,2,3] * 3\n",
        "print(e)"
      ],
      "metadata": {
        "id": "I_NWH8r_tGsK",
        "outputId": "b8062990-3ee8-4219-c931-212ab60f70d9",
        "colab": {
          "base_uri": "https://localhost:8080/"
        }
      },
      "execution_count": null,
      "outputs": [
        {
          "output_type": "stream",
          "name": "stdout",
          "text": [
            "[0, 0, 0, 0]\n",
            "[1, 2, 3, 1, 2, 3, 1, 2, 3]\n"
          ]
        }
      ]
    },
    {
      "cell_type": "code",
      "source": [
        "#Slicing ou fatiamento de uma lista https://pythonacademy.com.br/blog/fatiamento-slicing-de-listas\n",
        "lista = ['a', 'b', 'c', 'd', 'e','f']\n",
        "print(lista[1:3])\n",
        "print(lista[4:])\n",
        "print(lista[:3])\n",
        "print\n"
      ],
      "metadata": {
        "id": "TlsbFEw1tVl5",
        "outputId": "c88214b5-a024-42b3-f9cf-bb7bc27a862f",
        "colab": {
          "base_uri": "https://localhost:8080/"
        }
      },
      "execution_count": 3,
      "outputs": [
        {
          "output_type": "stream",
          "name": "stdout",
          "text": [
            "['b', 'c']\n",
            "['e', 'f']\n",
            "['a', 'b', 'c']\n"
          ]
        },
        {
          "output_type": "execute_result",
          "data": {
            "text/plain": [
              "<function print>"
            ]
          },
          "metadata": {},
          "execution_count": 3
        }
      ]
    },
    {
      "cell_type": "code",
      "source": [
        "a = ['um', 'dois', 'tres']\n",
        "print(a)\n",
        "del a[1]\n",
        "print(a)"
      ],
      "metadata": {
        "colab": {
          "base_uri": "https://localhost:8080/"
        },
        "id": "ncRDZfI6wMWn",
        "outputId": "e8ef1cee-2473-408c-f4d6-3e7b7651775c"
      },
      "execution_count": 5,
      "outputs": [
        {
          "output_type": "stream",
          "name": "stdout",
          "text": [
            "['um', 'dois', 'tres']\n",
            "['um', 'tres']\n"
          ]
        }
      ]
    },
    {
      "cell_type": "code",
      "source": [
        "lista = ['a', 'b', 'c', 'd', 'e','f']\n",
        "print(lista)\n",
        "del lista[1:5]\n",
        "print(lista)"
      ],
      "metadata": {
        "colab": {
          "base_uri": "https://localhost:8080/"
        },
        "id": "KuAmcnmbwqsD",
        "outputId": "f2bb1b99-18e2-4349-b350-8593ee37c91b"
      },
      "execution_count": 6,
      "outputs": [
        {
          "output_type": "stream",
          "name": "stdout",
          "text": [
            "['a', 'b', 'c', 'd', 'e', 'f']\n",
            "['a', 'f']\n"
          ]
        }
      ]
    },
    {
      "cell_type": "code",
      "source": [
        "#Clonagem de listas\n",
        "\n",
        "a = [1,2,3]\n",
        "b = a[:]\n",
        "b[0] = 5\n",
        "print(a)\n",
        "\n",
        "#clonar\n",
        "a = [1,2,3]\n",
        "b = a[:]\n",
        "print(b)\n",
        "b[0] = 5\n",
        "print(b)\n",
        "print(a)"
      ],
      "metadata": {
        "colab": {
          "base_uri": "https://localhost:8080/"
        },
        "id": "JOjkjibAxtKL",
        "outputId": "a9ead3ab-2c4b-4fe5-a82c-399714d4f333"
      },
      "execution_count": 8,
      "outputs": [
        {
          "output_type": "stream",
          "name": "stdout",
          "text": [
            "[1, 2, 3]\n",
            "[1, 2, 3]\n",
            "[5, 2, 3]\n",
            "[1, 2, 3]\n"
          ]
        }
      ]
    }
  ]
}