{
  "nbformat": 4,
  "nbformat_minor": 0,
  "metadata": {
    "colab": {
      "provenance": [],
      "include_colab_link": true
    },
    "kernelspec": {
      "name": "python3",
      "display_name": "Python 3"
    },
    "language_info": {
      "name": "python"
    }
  },
  "cells": [
    {
      "cell_type": "markdown",
      "metadata": {
        "id": "view-in-github",
        "colab_type": "text"
      },
      "source": [
        "<a href=\"https://colab.research.google.com/github/Gabriela-Leiros/2024.1-Algoritmos-e-Estruturas-de-Dados-Gabriela-Leiros/blob/main/10_funcoes.ipynb\" target=\"_parent\"><img src=\"https://colab.research.google.com/assets/colab-badge.svg\" alt=\"Open In Colab\"/></a>"
      ]
    },
    {
      "cell_type": "code",
      "execution_count": null,
      "metadata": {
        "colab": {
          "base_uri": "https://localhost:8080/"
        },
        "id": "GHK8qTTMeqgH",
        "outputId": "11c2950e-6486-414a-a056-612bdc772636"
      },
      "outputs": [
        {
          "output_type": "stream",
          "name": "stdout",
          "text": [
            "True\n",
            "False\n"
          ]
        }
      ],
      "source": [
        "#função de retorno par\n",
        "def epar(num):\n",
        "    if num % 2 == 0:\n",
        "        return True\n",
        "    else:\n",
        "        return False\n",
        "\n",
        "print(epar(4))\n",
        "print(epar(3))"
      ]
    },
    {
      "cell_type": "code",
      "source": [
        "#funcção para verificar se um número é primo\n",
        "def primo(num):\n",
        "    for i in range(2, num):\n",
        "        if num % i == 0:\n",
        "            return False\n",
        "    return True\n",
        "\n",
        "print(primo(4))\n",
        "print(primo(5))"
      ],
      "metadata": {
        "colab": {
          "base_uri": "https://localhost:8080/"
        },
        "id": "VUpgq_CofVBE",
        "outputId": "4a2a3cae-af2d-4b0e-8e91-9ab803384bec"
      },
      "execution_count": null,
      "outputs": [
        {
          "output_type": "stream",
          "name": "stdout",
          "text": [
            "False\n",
            "True\n"
          ]
        }
      ]
    },
    {
      "cell_type": "code",
      "source": [
        "#Implementar uma função para calcular equações de segundo grau, utilizado\n",
        "#ax² + bx + c = 0\n",
        "def chitaozinho(a, b, c):\n",
        "  delta = b**2-4*a*c"
      ],
      "metadata": {
        "id": "0GgtMK-gXTJC"
      },
      "execution_count": 1,
      "outputs": []
    }
  ]
}