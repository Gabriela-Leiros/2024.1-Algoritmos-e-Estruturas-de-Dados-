{
  "nbformat": 4,
  "nbformat_minor": 0,
  "metadata": {
    "colab": {
      "provenance": [],
      "authorship_tag": "ABX9TyOC5dUKH/fu8cNipE3UkTCA",
      "include_colab_link": true
    },
    "kernelspec": {
      "name": "python3",
      "display_name": "Python 3"
    },
    "language_info": {
      "name": "python"
    }
  },
  "cells": [
    {
      "cell_type": "markdown",
      "metadata": {
        "id": "view-in-github",
        "colab_type": "text"
      },
      "source": [
        "<a href=\"https://colab.research.google.com/github/Gabriela-Leiros/2024.1-Algoritmos-e-Estruturas-de-Dados-Gabriela-Leiros/blob/main/07_repeti%C3%A7%C3%A3o_com_for.ipynb\" target=\"_parent\"><img src=\"https://colab.research.google.com/assets/colab-badge.svg\" alt=\"Open In Colab\"/></a>"
      ]
    },
    {
      "cell_type": "code",
      "source": [
        "contador = 0\n",
        "for x in ['spam','eggs','bacon']:\n",
        "  contador += 1\n",
        "  print(f\"{contador}: {x}\")"
      ],
      "metadata": {
        "colab": {
          "base_uri": "https://localhost:8080/"
        },
        "id": "chCNDKpfi0st",
        "outputId": "1422825a-6964-4056-93ab-0d6d3c9fd592"
      },
      "execution_count": 4,
      "outputs": [
        {
          "output_type": "stream",
          "name": "stdout",
          "text": [
            "1: spam\n",
            "2: eggs\n",
            "3: bacon\n"
          ]
        }
      ]
    },
    {
      "cell_type": "code",
      "execution_count": 3,
      "metadata": {
        "colab": {
          "base_uri": "https://localhost:8080/"
        },
        "id": "wA5bed5SgTZw",
        "outputId": "b1afe2e0-ea52-476e-eeb5-6fbef24a29cc"
      },
      "outputs": [
        {
          "output_type": "stream",
          "name": "stdout",
          "text": [
            "0: spam\n",
            "1: eggs\n",
            "2: bacon\n"
          ]
        }
      ],
      "source": [
        "contador = 0\n",
        "for x in ['spam','eggs','bacon']:\n",
        "  print(f\"{contador}: {x}\")\n",
        "  contador += 1"
      ]
    },
    {
      "cell_type": "code",
      "source": [
        "T = [(1,2), (3,4), (5,6)]\n",
        "for (a,b) in T:\n",
        "  print(a, \"e\", b)"
      ],
      "metadata": {
        "colab": {
          "base_uri": "https://localhost:8080/"
        },
        "id": "0NtjHBs0kR5M",
        "outputId": "e67725ab-eb10-4b17-bcf3-41de640b65bd"
      },
      "execution_count": 5,
      "outputs": [
        {
          "output_type": "stream",
          "name": "stdout",
          "text": [
            "1 e 2\n",
            "3 e 4\n",
            "5 e 6\n"
          ]
        }
      ]
    },
    {
      "cell_type": "code",
      "source": [
        "#Dicionário em python\n",
        "D = {'a': 1,'b': 2, 'c': 3}\n",
        "for chave in D:\n",
        "  print(chave, \"=>\",D[chave])"
      ],
      "metadata": {
        "colab": {
          "base_uri": "https://localhost:8080/"
        },
        "id": "3SvRG5zgk0GP",
        "outputId": "bc58032a-d0e9-4e3d-8925-9f6af23e46b9"
      },
      "execution_count": 9,
      "outputs": [
        {
          "output_type": "stream",
          "name": "stdout",
          "text": [
            "a => 1\n",
            "b => 2\n",
            "c => 3\n"
          ]
        }
      ]
    },
    {
      "cell_type": "markdown",
      "source": [
        "#Uso do range"
      ],
      "metadata": {
        "id": "1tEytBesq3wg"
      }
    },
    {
      "cell_type": "code",
      "source": [
        "list(range(10))"
      ],
      "metadata": {
        "colab": {
          "base_uri": "https://localhost:8080/"
        },
        "id": "Z12RsrlumkkE",
        "outputId": "2add7193-11ea-495e-ebe7-5b816ed01ed7"
      },
      "execution_count": 10,
      "outputs": [
        {
          "output_type": "execute_result",
          "data": {
            "text/plain": [
              "[0, 1, 2, 3, 4, 5, 6, 7, 8, 9]"
            ]
          },
          "metadata": {},
          "execution_count": 10
        }
      ]
    },
    {
      "cell_type": "code",
      "source": [
        "for i in range(5):\n",
        "  print(i,\"pythons\")"
      ],
      "metadata": {
        "colab": {
          "base_uri": "https://localhost:8080/"
        },
        "id": "5sfEwsL9nJRa",
        "outputId": "457fb115-8008-47a0-ee25-9e451df747be"
      },
      "execution_count": 12,
      "outputs": [
        {
          "output_type": "stream",
          "name": "stdout",
          "text": [
            "0 pythons\n",
            "1 pythons\n",
            "2 pythons\n",
            "3 pythons\n",
            "4 pythons\n"
          ]
        }
      ]
    },
    {
      "cell_type": "code",
      "source": [
        "s = 'gabriela'\n",
        "print(\"tamanho da palavra: \", len(s))\n",
        "for i in range(len(s)):\n",
        "  print(i, s[i], sep='-', end=' ')"
      ],
      "metadata": {
        "colab": {
          "base_uri": "https://localhost:8080/"
        },
        "id": "ZHtdUaIQnqv4",
        "outputId": "a63a7c91-3eb6-4269-ada8-6a46f56579ba"
      },
      "execution_count": 19,
      "outputs": [
        {
          "output_type": "stream",
          "name": "stdout",
          "text": [
            "tamanho da palavra:  8\n",
            "0-g 1-a 2-b 3-r 4-i 5-e 6-l 7-a "
          ]
        }
      ]
    },
    {
      "cell_type": "markdown",
      "source": [
        "#Uso do Zip"
      ],
      "metadata": {
        "id": "4zk_LMqiq87p"
      }
    },
    {
      "cell_type": "code",
      "source": [
        "L1 = ['a', 'b', 'c', 'd']\n",
        "L2 = [1,2,3,4]\n",
        "print(list(L1))\n",
        "print(list(L2))\n",
        "compactado = zip(L1,L2)\n",
        "print(list(compactado))\n",
        "print(type(compactado))\n",
        "print(type(list(zip(L1,L2))))\n",
        "for (x,y) in list(zip(L1,L2)):\n",
        "  print(x, '-', y)"
      ],
      "metadata": {
        "colab": {
          "base_uri": "https://localhost:8080/"
        },
        "id": "PcrjKD8vrAQ4",
        "outputId": "4a7929ca-28ce-4c57-fc4c-43c1f6ed46b9"
      },
      "execution_count": 27,
      "outputs": [
        {
          "output_type": "stream",
          "name": "stdout",
          "text": [
            "['a', 'b', 'c', 'd']\n",
            "[1, 2, 3, 4]\n",
            "[('a', 1), ('b', 2), ('c', 3), ('d', 4)]\n",
            "<class 'zip'>\n",
            "<class 'list'>\n",
            "a - 1\n",
            "b - 2\n",
            "c - 3\n",
            "d - 4\n"
          ]
        }
      ]
    },
    {
      "cell_type": "code",
      "source": [
        "#zip crie um dicionário a partir de uma lista\n",
        "chaves = ['a', 'b', 'c','d']\n",
        "valores = [1, 2, 3, 4]\n",
        "D1 = dict(zip(chaves, valores))\n",
        "print (D1)"
      ],
      "metadata": {
        "colab": {
          "base_uri": "https://localhost:8080/"
        },
        "id": "qMMA_Cjct38W",
        "outputId": "a0dafe9d-6897-4353-9249-7f77053b3fa3"
      },
      "execution_count": 31,
      "outputs": [
        {
          "output_type": "stream",
          "name": "stdout",
          "text": [
            "{'a': 1, 'b': 2, 'c': 3, 'd': 4}\n"
          ]
        }
      ]
    },
    {
      "cell_type": "markdown",
      "source": [
        "#uso do enumerate"
      ],
      "metadata": {
        "id": "9o3q2cTfujsf"
      }
    },
    {
      "cell_type": "code",
      "source": [
        "s= 'gabriela'\n",
        "print(enumerate(s))\n",
        "print(list(enumerate(s)))\n",
        "for (offset,valor) in enumerate(s):\n",
        "  print(offset,valor)"
      ],
      "metadata": {
        "colab": {
          "base_uri": "https://localhost:8080/"
        },
        "id": "7YG23XdkunSG",
        "outputId": "2560a3e6-8b35-4987-c542-eee7daa3b6de"
      },
      "execution_count": 34,
      "outputs": [
        {
          "output_type": "stream",
          "name": "stdout",
          "text": [
            "<enumerate object at 0x7a757975b8c0>\n",
            "[(0, 'g'), (1, 'a'), (2, 'b'), (3, 'r'), (4, 'i'), (5, 'e'), (6, 'l'), (7, 'a')]\n",
            "0 g\n",
            "1 a\n",
            "2 b\n",
            "3 r\n",
            "4 i\n",
            "5 e\n",
            "6 l\n",
            "7 a\n"
          ]
        }
      ]
    }
  ]
}