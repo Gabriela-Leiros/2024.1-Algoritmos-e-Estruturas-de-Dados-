{
  "nbformat": 4,
  "nbformat_minor": 0,
  "metadata": {
    "colab": {
      "provenance": [],
      "authorship_tag": "ABX9TyMA2BgTK99v9uAgXuCsF3Tq",
      "include_colab_link": true
    },
    "kernelspec": {
      "name": "python3",
      "display_name": "Python 3"
    },
    "language_info": {
      "name": "python"
    }
  },
  "cells": [
    {
      "cell_type": "markdown",
      "metadata": {
        "id": "view-in-github",
        "colab_type": "text"
      },
      "source": [
        "<a href=\"https://colab.research.google.com/github/Gabriela-Leiros/2024.1-Algoritmos-e-Estruturas-de-Dados-Gabriela-Leiros/blob/main/12_Criptografia.ipynb\" target=\"_parent\"><img src=\"https://colab.research.google.com/assets/colab-badge.svg\" alt=\"Open In Colab\"/></a>"
      ]
    },
    {
      "cell_type": "code",
      "execution_count": null,
      "metadata": {
        "id": "Jspq4EpdTHMC"
      },
      "outputs": [],
      "source": [
        "#Falando sobre o filme \"O jogo da imitação\"\n",
        "#professor citou Cifra de César (e a utilizou nesse código abaixo)\n",
        "#Uso da máquina enigma (a mesma usada em \"Martha is dead\") https://www.youtube.com/watch?v=E0YX8BC4RLo&pp=ygUgY29tbyBmdW5jaW9uYXZhIGEgbWFxdWluYSBlbmlnbWE%3D\n",
        "#chr pesquisar\n",
        "#ord pesquisar\n",
        "#Iterador pesquisar"
      ]
    },
    {
      "cell_type": "code",
      "source": [
        "#Criptografia\n",
        "def criptografa(msg):\n",
        "  s = \"\"\n",
        "  for i in msg:\n",
        "    s += chr(ord(i) + 1536)\n",
        "  return s\n",
        "\n",
        "def descriptografar(msg):\n",
        "  s = \"\"\n",
        "  for i in msg:\n",
        "    s += chr(ord(i) - 1536)\n",
        "  return s\n",
        "\n",
        "\n",
        "mensagem = input(\"Digite a mensagem para criptografar: \")\n",
        "mensagem_criptografada = criptografa(mensagem)\n",
        "print(\"Mensagem criptografada: \" , mensagem_criptografada)\n",
        "\n",
        "mensagem_descriptografada = descriptografar(mensagem_criptografada)\n",
        "print(\"Mensagem descriptografada: \" , mensagem_descriptografada)\n",
        "\n"
      ],
      "metadata": {
        "colab": {
          "base_uri": "https://localhost:8080/"
        },
        "id": "tAcCQjCsX06i",
        "outputId": "9ecea8b7-d00a-4f49-a0c0-c41cb502f3a4"
      },
      "execution_count": 7,
      "outputs": [
        {
          "output_type": "stream",
          "name": "stdout",
          "text": [
            "Digite a mensagem para criptografar: temos uma mensagem\n",
            "Mensagem criptografada:  ٴ٥٭ٯٳؠٵ٭١ؠ٭٥ٮٳ١٧٥٭\n",
            "Mensagem descriptografada:  temos uma mensagem\n"
          ]
        }
      ]
    }
  ]
}