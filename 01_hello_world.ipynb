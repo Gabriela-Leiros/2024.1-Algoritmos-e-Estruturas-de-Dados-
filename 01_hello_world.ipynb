{
  "nbformat": 4,
  "nbformat_minor": 0,
  "metadata": {
    "colab": {
      "provenance": [],
      "authorship_tag": "ABX9TyO/BQYtLp/k7oWOJp92UakC",
      "include_colab_link": true
    },
    "kernelspec": {
      "name": "python3",
      "display_name": "Python 3"
    },
    "language_info": {
      "name": "python"
    }
  },
  "cells": [
    {
      "cell_type": "markdown",
      "metadata": {
        "id": "view-in-github",
        "colab_type": "text"
      },
      "source": [
        "<a href=\"https://colab.research.google.com/github/Gabriela-Leiros/2024.1-Algoritmos-e-Estruturas-de-Dados-Gabriela-Leiros/blob/main/01_hello_world.ipynb\" target=\"_parent\"><img src=\"https://colab.research.google.com/assets/colab-badge.svg\" alt=\"Open In Colab\"/></a>"
      ]
    },
    {
      "cell_type": "markdown",
      "source": [
        "Meu primeiro programa\n"
      ],
      "metadata": {
        "id": "0FIAz8FGdzsQ"
      }
    },
    {
      "cell_type": "code",
      "source": [
        "#imprime \"Hello, world\" na tela\n",
        "print(\"Hello, world\")"
      ],
      "metadata": {
        "colab": {
          "base_uri": "https://localhost:8080/"
        },
        "id": "UEdaWNF5hCAy",
        "outputId": "21658a22-39e6-43e1-e2bc-37dc18c61e9b"
      },
      "execution_count": null,
      "outputs": [
        {
          "output_type": "stream",
          "name": "stdout",
          "text": [
            "Hello world\n"
          ]
        }
      ]
    },
    {
      "cell_type": "code",
      "source": [
        "#Variáveis em Python\n",
        "#Atribui a string \"Hello, world\" a variável message\n",
        "message = \"Hello, World!\"\n",
        "#Imprimir o conteúdo da variável message\n",
        "print (message)"
      ],
      "metadata": {
        "colab": {
          "base_uri": "https://localhost:8080/"
        },
        "id": "RMA8wcX-ozEX",
        "outputId": "4f73cd4b-2aaf-4977-9ae2-8aa557b5f716"
      },
      "execution_count": 1,
      "outputs": [
        {
          "output_type": "stream",
          "name": "stdout",
          "text": [
            "Hello, World!\n"
          ]
        }
      ]
    },
    {
      "cell_type": "code",
      "source": [
        "#entrada de dados de usúario\n",
        "#solicitar ao usuário que insira seu nome\n",
        "nome = input(\"Qual o seu nome?\")\n",
        "print(\"Olá, \" + nome+ \"!\")"
      ],
      "metadata": {
        "colab": {
          "base_uri": "https://localhost:8080/"
        },
        "id": "hANhrlPBtXjA",
        "outputId": "ad549572-b3a4-4688-93ff-f47a688d479e"
      },
      "execution_count": 3,
      "outputs": [
        {
          "output_type": "stream",
          "name": "stdout",
          "text": [
            "Qual o seu nome?gabriela\n",
            "Olá, gabriela!\n"
          ]
        }
      ]
    }
  ]
}