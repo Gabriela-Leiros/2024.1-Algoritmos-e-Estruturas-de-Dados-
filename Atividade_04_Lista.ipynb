{
  "nbformat": 4,
  "nbformat_minor": 0,
  "metadata": {
    "colab": {
      "provenance": [],
      "authorship_tag": "ABX9TyN5hTNMlP3I5fn/ZZur5WZO",
      "include_colab_link": true
    },
    "kernelspec": {
      "name": "python3",
      "display_name": "Python 3"
    },
    "language_info": {
      "name": "python"
    }
  },
  "cells": [
    {
      "cell_type": "markdown",
      "metadata": {
        "id": "view-in-github",
        "colab_type": "text"
      },
      "source": [
        "<a href=\"https://colab.research.google.com/github/Gabriela-Leiros/2024.1-Algoritmos-e-Estruturas-de-Dados-Gabriela-Leiros/blob/main/Atividade_04_Lista.ipynb\" target=\"_parent\"><img src=\"https://colab.research.google.com/assets/colab-badge.svg\" alt=\"Open In Colab\"/></a>"
      ]
    },
    {
      "cell_type": "code",
      "execution_count": null,
      "metadata": {
        "colab": {
          "base_uri": "https://localhost:8080/"
        },
        "id": "QwhtHrmv-3H9",
        "outputId": "4c1d2dae-7d0a-4257-e7a0-25f4b59ac28c"
      },
      "outputs": [
        {
          "output_type": "stream",
          "name": "stdout",
          "text": [
            "Olá mundo!\n"
          ]
        }
      ],
      "source": [
        "#Escreva um programa que imprima \"Olá, Mundo!\" na tela.\n",
        "\n",
        "print (\"Olá mundo!\")"
      ]
    },
    {
      "cell_type": "code",
      "source": [
        "#Crie um programa que leia três notas de um aluno e calcule a média final.\n",
        "\n",
        "n1= float(input(\"Digite a nota 1: \"))\n",
        "n2= float(input(\"Digite a nota 2: \"))\n",
        "n3= float(input(\"Digite a nota 3: \"))\n",
        "\n",
        "#Calculo da média final\n",
        "media = n1+n2+n3/3\n",
        "print(f\"A média das notas é: {media:.2f}\")\n"
      ],
      "metadata": {
        "id": "jQ2URystAASD",
        "colab": {
          "base_uri": "https://localhost:8080/"
        },
        "outputId": "47140193-8b34-4a9c-86a4-83eaefdbd82e"
      },
      "execution_count": 19,
      "outputs": [
        {
          "output_type": "stream",
          "name": "stdout",
          "text": [
            "Digite a nota 1: 10\n",
            "Digite a nota 2: 10\n",
            "Digite a nota 3: 10\n",
            "A média das notas é: 23.33\n"
          ]
        }
      ]
    },
    {
      "cell_type": "code",
      "source": [
        "#Escreva um programa que calcule a média de notas, permitindo a entrada repetida de notas até que o usuário indique que não deseja mais inserir.\n",
        "\n",
        "notas = []\n",
        "continuar = True\n",
        "while continuar:\n",
        "    nota_str = input(\"Insira uma nota (ou 'fim' para encerrar): \")\n",
        "\n",
        "    if nota_str.lower() == 'fim':\n",
        "        continuar = False\n",
        "    else:\n",
        "        try:\n",
        "            nota = float(nota_str)\n",
        "            if 0 <= nota <= 10:\n",
        "                notas.append(nota)\n",
        "            else:\n",
        "                print(\"Por favor, insira uma nota válida entre 0 e 10.\")\n",
        "        except ValueError:\n",
        "            print(\"Por favor, insira uma nota válida (número decimal).\")\n",
        "\n",
        "if len(notas) == 0:\n",
        "    print(\"Nenhuma nota foi inserida.\")\n",
        "else:\n",
        "    media = sum(notas) / len(notas)\n",
        "    print(f\"A média das notas inseridas é: {media:.2f}\")"
      ],
      "metadata": {
        "colab": {
          "base_uri": "https://localhost:8080/"
        },
        "id": "sPSsokIDCrDa",
        "outputId": "4bb55584-b2cc-491d-9f22-9d26440b5cc1"
      },
      "execution_count": 30,
      "outputs": [
        {
          "output_type": "stream",
          "name": "stdout",
          "text": [
            "Insira uma nota (ou 'fim' para encerrar): 10\n",
            "Insira uma nota (ou 'fim' para encerrar): 5\n",
            "Insira uma nota (ou 'fim' para encerrar): 3\n",
            "Insira uma nota (ou 'fim' para encerrar): fim\n",
            "A média das notas inseridas é: 6.00\n"
          ]
        }
      ]
    },
    {
      "cell_type": "code",
      "source": [
        "#Crie um programa que leia três números e determine o maior deles.\n",
        "\n",
        "lista = []\n",
        "\n",
        "while len(lista) < 3:\n",
        "    numero = input(\"Digite um número: \")\n",
        "    lista.append(float(numero))\n",
        "\n",
        "maior_numero = max(lista)\n",
        "print(\"Maior número: \", maior_numero)"
      ],
      "metadata": {
        "id": "7ssYpr-DIqiU",
        "colab": {
          "base_uri": "https://localhost:8080/"
        },
        "outputId": "c2d689b1-c045-46c3-b13c-a1706803b316"
      },
      "execution_count": 36,
      "outputs": [
        {
          "output_type": "stream",
          "name": "stdout",
          "text": [
            "Digite um número: 5\n",
            "Digite um número: 2\n",
            "Digite um número: 7\n",
            "Maior número:  7.0\n"
          ]
        }
      ]
    },
    {
      "cell_type": "code",
      "source": [
        "#Desenvolva um programa que monitore a qualidade da água de um reservatório usando um loop while.\n",
        "\n",
        "nome_substancia = input(\"Digite o nome da substância a ser analisada: \")\n",
        "print(f\"Insira o nível de {nome_substancia} na água para verificar se está dentro do padrão aceito.\")\n",
        "\n",
        "paradinha = True\n",
        "\n",
        "while paradinha:\n",
        "    nível_substancia = float(input(f\"Digite o nível de {nome_substancia} em mg/L: \"))\n",
        "\n",
        "    if nível_substancia < 0.2:\n",
        "        print(\"Atenção: O nível está abaixo do padrão aceitável.\")\n",
        "    elif nível_substancia > 2.0:\n",
        "        print(\"Atenção: O nível está acima do padrão aceitável.\")\n",
        "    else:\n",
        "        print(\"O nível está dentro dos padrões aceitáveis.\")\n",
        "\n",
        "    paradinha = False"
      ],
      "metadata": {
        "id": "7nwQvyz7Iu_6",
        "colab": {
          "base_uri": "https://localhost:8080/"
        },
        "outputId": "59b65505-6c8f-4b5a-e122-4b3d375d20a8"
      },
      "execution_count": 49,
      "outputs": [
        {
          "output_type": "stream",
          "name": "stdout",
          "text": [
            "Digite o nome da substância a ser analisada: fluor\n",
            "Insira o nível de fluor na água para verificar se está dentro do padrão aceito.\n",
            "Digite o nível de fluor em mg/L: 1.2\n",
            "O nível está dentro dos padrões aceitáveis.\n"
          ]
        }
      ]
    },
    {
      "cell_type": "code",
      "source": [
        "#Implemente um programa que utilize um loop while para calcular a soma dos números de 1 a 100.\n",
        "\n",
        "soma = 0\n",
        "numero = 1\n",
        "\n",
        "while numero <= 100:\n",
        "    soma += numero\n",
        "    print(f\"Somando {numero}, total até agora: {soma}\")\n",
        "    numero += 1\n",
        "\n",
        "print(f\"Resultado final da soma: {soma}\")\n"
      ],
      "metadata": {
        "id": "hqCapjbqIyzV",
        "colab": {
          "base_uri": "https://localhost:8080/"
        },
        "outputId": "004a7c5a-14c1-485d-820e-ca8439d36aca"
      },
      "execution_count": 56,
      "outputs": [
        {
          "output_type": "stream",
          "name": "stdout",
          "text": [
            "Somando 1, total até agora: 1\n",
            "Somando 2, total até agora: 3\n",
            "Somando 3, total até agora: 6\n",
            "Somando 4, total até agora: 10\n",
            "Somando 5, total até agora: 15\n",
            "Somando 6, total até agora: 21\n",
            "Somando 7, total até agora: 28\n",
            "Somando 8, total até agora: 36\n",
            "Somando 9, total até agora: 45\n",
            "Somando 10, total até agora: 55\n",
            "Somando 11, total até agora: 66\n",
            "Somando 12, total até agora: 78\n",
            "Somando 13, total até agora: 91\n",
            "Somando 14, total até agora: 105\n",
            "Somando 15, total até agora: 120\n",
            "Somando 16, total até agora: 136\n",
            "Somando 17, total até agora: 153\n",
            "Somando 18, total até agora: 171\n",
            "Somando 19, total até agora: 190\n",
            "Somando 20, total até agora: 210\n",
            "Somando 21, total até agora: 231\n",
            "Somando 22, total até agora: 253\n",
            "Somando 23, total até agora: 276\n",
            "Somando 24, total até agora: 300\n",
            "Somando 25, total até agora: 325\n",
            "Somando 26, total até agora: 351\n",
            "Somando 27, total até agora: 378\n",
            "Somando 28, total até agora: 406\n",
            "Somando 29, total até agora: 435\n",
            "Somando 30, total até agora: 465\n",
            "Somando 31, total até agora: 496\n",
            "Somando 32, total até agora: 528\n",
            "Somando 33, total até agora: 561\n",
            "Somando 34, total até agora: 595\n",
            "Somando 35, total até agora: 630\n",
            "Somando 36, total até agora: 666\n",
            "Somando 37, total até agora: 703\n",
            "Somando 38, total até agora: 741\n",
            "Somando 39, total até agora: 780\n",
            "Somando 40, total até agora: 820\n",
            "Somando 41, total até agora: 861\n",
            "Somando 42, total até agora: 903\n",
            "Somando 43, total até agora: 946\n",
            "Somando 44, total até agora: 990\n",
            "Somando 45, total até agora: 1035\n",
            "Somando 46, total até agora: 1081\n",
            "Somando 47, total até agora: 1128\n",
            "Somando 48, total até agora: 1176\n",
            "Somando 49, total até agora: 1225\n",
            "Somando 50, total até agora: 1275\n",
            "Somando 51, total até agora: 1326\n",
            "Somando 52, total até agora: 1378\n",
            "Somando 53, total até agora: 1431\n",
            "Somando 54, total até agora: 1485\n",
            "Somando 55, total até agora: 1540\n",
            "Somando 56, total até agora: 1596\n",
            "Somando 57, total até agora: 1653\n",
            "Somando 58, total até agora: 1711\n",
            "Somando 59, total até agora: 1770\n",
            "Somando 60, total até agora: 1830\n",
            "Somando 61, total até agora: 1891\n",
            "Somando 62, total até agora: 1953\n",
            "Somando 63, total até agora: 2016\n",
            "Somando 64, total até agora: 2080\n",
            "Somando 65, total até agora: 2145\n",
            "Somando 66, total até agora: 2211\n",
            "Somando 67, total até agora: 2278\n",
            "Somando 68, total até agora: 2346\n",
            "Somando 69, total até agora: 2415\n",
            "Somando 70, total até agora: 2485\n",
            "Somando 71, total até agora: 2556\n",
            "Somando 72, total até agora: 2628\n",
            "Somando 73, total até agora: 2701\n",
            "Somando 74, total até agora: 2775\n",
            "Somando 75, total até agora: 2850\n",
            "Somando 76, total até agora: 2926\n",
            "Somando 77, total até agora: 3003\n",
            "Somando 78, total até agora: 3081\n",
            "Somando 79, total até agora: 3160\n",
            "Somando 80, total até agora: 3240\n",
            "Somando 81, total até agora: 3321\n",
            "Somando 82, total até agora: 3403\n",
            "Somando 83, total até agora: 3486\n",
            "Somando 84, total até agora: 3570\n",
            "Somando 85, total até agora: 3655\n",
            "Somando 86, total até agora: 3741\n",
            "Somando 87, total até agora: 3828\n",
            "Somando 88, total até agora: 3916\n",
            "Somando 89, total até agora: 4005\n",
            "Somando 90, total até agora: 4095\n",
            "Somando 91, total até agora: 4186\n",
            "Somando 92, total até agora: 4278\n",
            "Somando 93, total até agora: 4371\n",
            "Somando 94, total até agora: 4465\n",
            "Somando 95, total até agora: 4560\n",
            "Somando 96, total até agora: 4656\n",
            "Somando 97, total até agora: 4753\n",
            "Somando 98, total até agora: 4851\n",
            "Somando 99, total até agora: 4950\n",
            "Somando 100, total até agora: 5050\n",
            "Resultado final da soma: 5050\n"
          ]
        }
      ]
    },
    {
      "cell_type": "code",
      "source": [
        "#Escreva um programa que imprima todos os números ímpares de 1 a 50 usando um loop for.\n",
        "\n",
        "impares = []\n",
        "\n",
        "for i in range(1, 51):\n",
        "    if i % 2 != 0:\n",
        "         impares.append(i)\n",
        "\n",
        "print(impares)\n"
      ],
      "metadata": {
        "id": "KKfXPj7LI27j",
        "colab": {
          "base_uri": "https://localhost:8080/"
        },
        "outputId": "b750a88d-7238-4469-d985-c553cca7f399"
      },
      "execution_count": 74,
      "outputs": [
        {
          "output_type": "stream",
          "name": "stdout",
          "text": [
            "[1, 3, 5, 7, 9, 11, 13, 15, 17, 19, 21, 23, 25, 27, 29, 31, 33, 35, 37, 39, 41, 43, 45, 47, 49]\n"
          ]
        }
      ]
    },
    {
      "cell_type": "code",
      "source": [
        "#Desenvolva um programa que utilize os objetos built-in do Python para realizar operações com listas e dicionários.\n",
        "\n",
        "s = input(\"Digite um nome: \")\n",
        "print(len(s))\n",
        "\n",
        "print(s[0])\n",
        "print(s[1:3])\n",
        "print(s[:3])\n",
        "print(s[:5])\n",
        "print(s[:2])\n",
        "\n",
        "l = [123, {\"Nome\"}, 3.14]\n",
        "print(type(l))\n",
        "print(dir(l))\n",
        "\n",
        "\n"
      ],
      "metadata": {
        "id": "RTQuN9TYI8zo",
        "colab": {
          "base_uri": "https://localhost:8080/"
        },
        "outputId": "7a5881b0-dce4-4dfa-c3be-f657f23fdfe8"
      },
      "execution_count": 82,
      "outputs": [
        {
          "output_type": "stream",
          "name": "stdout",
          "text": [
            "Digite um nome: marina\n",
            "6\n",
            "m\n",
            "ar\n",
            "mar\n",
            "marin\n",
            "ma\n",
            "<class 'list'>\n",
            "['__add__', '__class__', '__class_getitem__', '__contains__', '__delattr__', '__delitem__', '__dir__', '__doc__', '__eq__', '__format__', '__ge__', '__getattribute__', '__getitem__', '__gt__', '__hash__', '__iadd__', '__imul__', '__init__', '__init_subclass__', '__iter__', '__le__', '__len__', '__lt__', '__mul__', '__ne__', '__new__', '__reduce__', '__reduce_ex__', '__repr__', '__reversed__', '__rmul__', '__setattr__', '__setitem__', '__sizeof__', '__str__', '__subclasshook__', 'append', 'clear', 'copy', 'count', 'extend', 'index', 'insert', 'pop', 'remove', 'reverse', 'sort']\n"
          ]
        }
      ]
    }
  ]
}