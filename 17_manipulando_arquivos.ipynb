{
  "nbformat": 4,
  "nbformat_minor": 0,
  "metadata": {
    "colab": {
      "provenance": [],
      "authorship_tag": "ABX9TyM1AE6ST7m/GlxsNtir7mLF",
      "include_colab_link": true
    },
    "kernelspec": {
      "name": "python3",
      "display_name": "Python 3"
    },
    "language_info": {
      "name": "python"
    }
  },
  "cells": [
    {
      "cell_type": "markdown",
      "metadata": {
        "id": "view-in-github",
        "colab_type": "text"
      },
      "source": [
        "<a href=\"https://colab.research.google.com/github/Gabriela-Leiros/2024.1-Algoritmos-e-Estruturas-de-Dados-Gabriela-Leiros/blob/main/17_manipulando_arquivos.ipynb\" target=\"_parent\"><img src=\"https://colab.research.google.com/assets/colab-badge.svg\" alt=\"Open In Colab\"/></a>"
      ]
    },
    {
      "cell_type": "code",
      "execution_count": 1,
      "metadata": {
        "id": "z1uMOTGbctt_"
      },
      "outputs": [],
      "source": [
        "#escreveu em um arquivo\n",
        "arquivo = open('numeros.txt', 'w')\n",
        "for linha in range(1, 1010):\n",
        "    arquivo.write('%d\\n' % linha)\n",
        "arquivo.close()"
      ]
    },
    {
      "cell_type": "code",
      "source": [
        "#leitura de um arquivo\n",
        "arquivo = open('numeros.txt', 'r')\n",
        "texto = arquivo.read()\n",
        "print(texto)\n",
        "arquivo.close()"
      ],
      "metadata": {
        "id": "Yv9r2FaFdhQJ"
      },
      "execution_count": null,
      "outputs": []
    },
    {
      "cell_type": "code",
      "source": [
        "#Leitura linha por linha\n",
        "arquivo = open('numeros.txt', 'r')\n",
        "for linha in arquivo.readlines():\n",
        "    print(linha)\n",
        "arquivo.close()"
      ],
      "metadata": {
        "id": "XPRzmJCre9Fh"
      },
      "execution_count": null,
      "outputs": []
    },
    {
      "cell_type": "code",
      "source": [
        "arquivo = open('numeros.txt', 'r')\n",
        "for linha in arquivo.readlines():\n",
        "    print(linha.rstrip())\n",
        "arquivo.close()"
      ],
      "metadata": {
        "id": "0QXiJ1nufgPO"
      },
      "execution_count": null,
      "outputs": []
    },
    {
      "cell_type": "code",
      "source": [
        "#Links para estudo\n",
        "#https://www.w3schools.com/python/ref_func_open.asp\n",
        "#https://www.w3schools.com/python/ref_func_format.asp\n",
        "#https://www.w3schools.com/python/ref_string_strip.asp\n",
        "#Strip tem metodos \"Filhos\" left e rigth\n",
        "#https://en.wikipedia.org/wiki/NSO_Group\n",
        "#https://www.nsogroup.com/about-us/\n",
        "#https://diariodonordeste.verdesmares.com.br/ultima-hora/pais/quem-e-marcola-conheca-a-historia-do-lider-de-faccao-condenado-a-342-anos-de-prisao-1.3267737\n"
      ],
      "metadata": {
        "id": "QZfAlVVAd6bv"
      },
      "execution_count": null,
      "outputs": []
    },
    {
      "cell_type": "code",
      "source": [
        "#usando o código do arquivo 12\n",
        "#Cifra de cesar\n",
        "#CRIPTOGRAFIA DE UM ARQUIVO\n",
        "def criptografa(msg):\n",
        "  s = \"\"\n",
        "  for i in msg:\n",
        "    s += chr(ord(i) + 1536)\n",
        "  return s\n",
        "\n",
        "def descriptografar(msg):\n",
        "  s = \"\"\n",
        "  for i in msg:\n",
        "    s += chr(ord(i) - 1536)\n",
        "  return s\n",
        "\n",
        "texto_cripto = criptografa(texto)\n",
        "arquivo = open('texto_cripto.txt', 'w', encoding = 'utf-8')\n",
        "arquivo.write(texto_cripto)\n",
        "arquivo_cripto.close()\n"
      ],
      "metadata": {
        "id": "2hRc3EtSmSzX"
      },
      "execution_count": null,
      "outputs": []
    },
    {
      "cell_type": "code",
      "source": [
        "#DESCRIPTOGRAFAR\n",
        "arquivo_descripto =open('texto_cripto.txt', 'r', encoding = 'utf-8')\n",
        "print(arquivo_descripto.read())\n",
        "print(descriptografar(arquivo_description.read()))\n",
        "arquivo_descripto.close()"
      ],
      "metadata": {
        "id": "PTv7w_P5qWrq"
      },
      "execution_count": null,
      "outputs": []
    }
  ]
}