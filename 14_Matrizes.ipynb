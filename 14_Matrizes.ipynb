{
  "nbformat": 4,
  "nbformat_minor": 0,
  "metadata": {
    "colab": {
      "provenance": [],
      "authorship_tag": "ABX9TyOITvsQGirefH5ktxwc54IB",
      "include_colab_link": true
    },
    "kernelspec": {
      "name": "python3",
      "display_name": "Python 3"
    },
    "language_info": {
      "name": "python"
    }
  },
  "cells": [
    {
      "cell_type": "markdown",
      "metadata": {
        "id": "view-in-github",
        "colab_type": "text"
      },
      "source": [
        "<a href=\"https://colab.research.google.com/github/Gabriela-Leiros/2024.1-Algoritmos-e-Estruturas-de-Dados-Gabriela-Leiros/blob/main/14_Matrizes.ipynb\" target=\"_parent\"><img src=\"https://colab.research.google.com/assets/colab-badge.svg\" alt=\"Open In Colab\"/></a>"
      ]
    },
    {
      "cell_type": "code",
      "execution_count": null,
      "metadata": {
        "colab": {
          "base_uri": "https://localhost:8080/"
        },
        "id": "IQNaCR-Dz3HU",
        "outputId": "839b31d7-1a89-44a7-949d-634ed9812a7b"
      },
      "outputs": [
        {
          "output_type": "stream",
          "name": "stdout",
          "text": [
            "[1, 2, 3, 4, 5, 6]\n"
          ]
        }
      ],
      "source": [
        "M = [1,2,3,4,5,6] #unidimensional\n",
        "print(M)"
      ]
    },
    {
      "cell_type": "code",
      "source": [
        "M = [[1,1,1],[1,1,1], [1,1,1]] #bidimensional\n",
        "print(M)\n",
        "M = [[1]*3]*3 #bidimensional\n",
        "print(M)"
      ],
      "metadata": {
        "colab": {
          "base_uri": "https://localhost:8080/"
        },
        "id": "9EkjHizH0N5Q",
        "outputId": "72665cbd-6070-4899-ffa5-5e25b53923b8"
      },
      "execution_count": null,
      "outputs": [
        {
          "output_type": "stream",
          "name": "stdout",
          "text": [
            "[[1, 1, 1], [1, 1, 1], [1, 1, 1]]\n",
            "[[1, 1, 1], [1, 1, 1], [1, 1, 1]]\n"
          ]
        }
      ]
    },
    {
      "cell_type": "code",
      "source": [
        "#Links sobre os assuntos estudados aqui:\n",
        "#https://youtu.be/3SjypFc_wuU?feature=shared 4 dimensão explicada por Carl Sagan\n",
        "#https://www.w3schools.com/python/python_lists_comprehension.asp\n",
        "#Vetores são matrizes de apenas uma dimensão.\n",
        "# Uso do for, i = iterador,j é apenas uma nomenclatura para outro iterador, podendo ser qualquer outra letra\n",
        "#https://pythonacademy.com.br/blog/list-comprehensions-no-python\n",
        "# https://www.w3schools.com/python/ref_func_len.asp"
      ],
      "metadata": {
        "id": "M1kMZCcw3ILk"
      },
      "execution_count": null,
      "outputs": []
    },
    {
      "cell_type": "code",
      "source": [
        "M = [ [1 for i in range(5)] ]\n",
        "print(M)"
      ],
      "metadata": {
        "colab": {
          "base_uri": "https://localhost:8080/"
        },
        "id": "arvqlZ4fZGSY",
        "outputId": "326ec0bb-798d-4ef1-b2f1-e4153a790c23"
      },
      "execution_count": null,
      "outputs": [
        {
          "output_type": "stream",
          "name": "stdout",
          "text": [
            "[[1, 1, 1, 1, 1]]\n"
          ]
        }
      ]
    },
    {
      "cell_type": "code",
      "source": [
        "M = [ [1 for i in range(5)] for j in range (5)]\n",
        "print(M)"
      ],
      "metadata": {
        "colab": {
          "base_uri": "https://localhost:8080/"
        },
        "outputId": "67f5d736-d815-40f9-e007-765cf7a34469",
        "id": "d8Jni1MrbWHB"
      },
      "execution_count": null,
      "outputs": [
        {
          "output_type": "stream",
          "name": "stdout",
          "text": [
            "[[1, 1, 1, 1, 1], [1, 1, 1, 1, 1], [1, 1, 1, 1, 1], [1, 1, 1, 1, 1], [1, 1, 1, 1, 1]]\n"
          ]
        }
      ]
    },
    {
      "cell_type": "code",
      "source": [
        "#Imprimir uma lista aninhada\n",
        "m = [ [ 1 for i in range(5)]for j in range(5) ]\n",
        "print(m)\n",
        "print(len(m))\n",
        "cont = 0\n",
        "for i in range(len(m)):\n",
        "  for j in range(len(m[i])):\n",
        "    cont +=1\n",
        "    m[i][j] = cont\n",
        "print(m)"
      ],
      "metadata": {
        "id": "eJhjEANEjW6k",
        "outputId": "ab3c5dd9-0af4-4969-a6ce-ab91c85d11f3",
        "colab": {
          "base_uri": "https://localhost:8080/"
        }
      },
      "execution_count": null,
      "outputs": [
        {
          "output_type": "stream",
          "name": "stdout",
          "text": [
            "[[1, 1, 1, 1, 1], [1, 1, 1, 1, 1], [1, 1, 1, 1, 1], [1, 1, 1, 1, 1], [1, 1, 1, 1, 1]]\n",
            "5\n",
            "[[1, 2, 3, 4, 5], [6, 7, 8, 9, 10], [11, 12, 13, 14, 15], [16, 17, 18, 19, 20], [21, 22, 23, 24, 25]]\n"
          ]
        }
      ]
    },
    {
      "cell_type": "code",
      "source": [
        "#Imprimir uma lista aninhada\n",
        "m = [ [ 1 for i in range(10)]for j in range(10) ]\n",
        "cont = 0\n",
        "for i in range(len(m)):\n",
        "  for j in range(len(m[i])):\n",
        "    cont +=1\n",
        "    m[i][j] = cont\n",
        "print(m)"
      ],
      "metadata": {
        "id": "BNfwwSuwl_ay",
        "outputId": "cac42054-285e-4789-e524-2f7f56dc8e6a",
        "colab": {
          "base_uri": "https://localhost:8080/"
        }
      },
      "execution_count": null,
      "outputs": [
        {
          "output_type": "stream",
          "name": "stdout",
          "text": [
            "[[1, 2, 3, 4, 5, 6, 7, 8, 9, 10], [11, 12, 13, 14, 15, 16, 17, 18, 19, 20], [21, 22, 23, 24, 25, 26, 27, 28, 29, 30], [31, 32, 33, 34, 35, 36, 37, 38, 39, 40], [41, 42, 43, 44, 45, 46, 47, 48, 49, 50], [51, 52, 53, 54, 55, 56, 57, 58, 59, 60], [61, 62, 63, 64, 65, 66, 67, 68, 69, 70], [71, 72, 73, 74, 75, 76, 77, 78, 79, 80], [81, 82, 83, 84, 85, 86, 87, 88, 89, 90], [91, 92, 93, 94, 95, 96, 97, 98, 99, 100]]\n"
          ]
        }
      ]
    },
    {
      "cell_type": "code",
      "source": [
        "m = [ [1]* 3] *3\n",
        "print(m)\n",
        "for i in range(3):\n",
        "    for j in range(3):\n",
        "      print(m[i][j])"
      ],
      "metadata": {
        "colab": {
          "base_uri": "https://localhost:8080/"
        },
        "id": "PoURgHt2poQH",
        "outputId": "04bcb329-baf5-4ff2-a816-320196252f45"
      },
      "execution_count": 7,
      "outputs": [
        {
          "output_type": "stream",
          "name": "stdout",
          "text": [
            "[[1, 1, 1], [1, 1, 1], [1, 1, 1]]\n",
            "1\n",
            "1\n",
            "1\n",
            "1\n",
            "1\n",
            "1\n",
            "1\n",
            "1\n",
            "1\n"
          ]
        }
      ]
    }
  ]
}