{
  "nbformat": 4,
  "nbformat_minor": 0,
  "metadata": {
    "colab": {
      "provenance": [],
      "authorship_tag": "ABX9TyMNfguuIFlUd1A9toaAFlhv",
      "include_colab_link": true
    },
    "kernelspec": {
      "name": "python3",
      "display_name": "Python 3"
    },
    "language_info": {
      "name": "python"
    }
  },
  "cells": [
    {
      "cell_type": "markdown",
      "metadata": {
        "id": "view-in-github",
        "colab_type": "text"
      },
      "source": [
        "<a href=\"https://colab.research.google.com/github/Gabriela-Leiros/2024.1-Algoritmos-e-Estruturas-de-Dados-Gabriela-Leiros/blob/main/18_TDD.ipynb\" target=\"_parent\"><img src=\"https://colab.research.google.com/assets/colab-badge.svg\" alt=\"Open In Colab\"/></a>"
      ]
    },
    {
      "cell_type": "code",
      "source": [
        "#Referencias da aula\n",
        "#https://blog.betrybe.com/tecnologia/tdd-test-driven-development/"
      ],
      "metadata": {
        "id": "qd20ui6Sm-Tg"
      },
      "execution_count": null,
      "outputs": []
    },
    {
      "cell_type": "code",
      "execution_count": null,
      "metadata": {
        "id": "ol1lm-cfl20j"
      },
      "outputs": [],
      "source": [
        "#programa para avaliar a saída de uma função dado uma entrada\n",
        "import random\n",
        "\n",
        "#Esqueleto de uma função para gerar uma lista de 28 números aleatórios, entre 1 e 100.\n",
        "def gerar_lista_aleatoria():\n",
        "  pass\n",
        "\n",
        "#Esqueletos de uma função para gerar uma lista de 28 números aleatorios distintos entre 1 e 100\n",
        "def gerar_lista_aleatoria_distinta():\n",
        "  pass\n",
        "\n",
        "#Esqueleto de uma função para embaralhar a lista\n",
        "def embaralhar_lista():\n",
        "  pass"
      ]
    },
    {
      "cell_type": "code",
      "source": [
        "from google.colab import drive\n",
        "import os\n",
        "import importlib.util\n",
        "\n",
        "drive.mount('/content/drive')\n",
        "\n",
        "#navegar pro diretorio de destino\n",
        "os.chdir('/content/drive/MyDrive/Colab Notebooks/algoritmo')\n",
        "\n",
        "# Perguntar ao usuário o caminho do arquivo no Google Drive\n",
        "caminho = \"/content/drive/MyDrive/Colab Notebooks/algoritmo\"\n",
        "# Google Drive (ex: '/content/drive/MyDrive/Colab Notebooks/20241_alg_est/18_tdd.ipynb'):\n",
        "\n",
        "# Exibir o caminho fornecido pelo usuário\n",
        "print(f\"O caminho fornecido foi: {caminho}\")\n",
        "\n",
        "# Converter o notebook para um script Python\n",
        "!jupyter nbconvert --to script \"{caminho}\"\n",
        "\n",
        "# Substituir a extensão '.ipynb' por '.py' para localizar o arquivo convertido\n",
        "caminho_py = caminho.replace('.ipynb', '.py')\n",
        "\n",
        "# Caso o arquivo tenha sido gerado como '.txt', renomeie para '.py'\n",
        "if os.path.exists(caminho_py.replace('.py', '.txt')):\n",
        "    os.rename(caminho_py.replace('.py', '.txt'), caminho_py)\n",
        "\n",
        "# Importar o script Python gerado\n",
        "spec = importlib.util.spec_from_file_location(\"tdd_module\", caminho_py)\n",
        "tdd_module = importlib.util.module_from_spec(spec)\n",
        "spec.loader.exec_module(tdd_module)\n"
      ],
      "metadata": {
        "colab": {
          "base_uri": "https://localhost:8080/",
          "height": 593
        },
        "id": "7wegWOpJn-Fj",
        "outputId": "1240b692-e5a1-435e-b49b-62cc805d94a2"
      },
      "execution_count": 15,
      "outputs": [
        {
          "output_type": "stream",
          "name": "stdout",
          "text": [
            "Drive already mounted at /content/drive; to attempt to forcibly remount, call drive.mount(\"/content/drive\", force_remount=True).\n",
            "O caminho fornecido foi: /content/drive/MyDrive/Colab Notebooks/algoritmo\n",
            "[NbConvertApp] Converting notebook /content/drive/MyDrive/Colab Notebooks/algoritmo to script\n",
            "Traceback (most recent call last):\n",
            "  File \"/usr/local/bin/jupyter-nbconvert\", line 8, in <module>\n",
            "    sys.exit(main())\n",
            "  File \"/usr/local/lib/python3.10/dist-packages/jupyter_core/application.py\", line 283, in launch_instance\n",
            "    super().launch_instance(argv=argv, **kwargs)\n",
            "  File \"/usr/local/lib/python3.10/dist-packages/traitlets/config/application.py\", line 992, in launch_instance\n",
            "    app.start()\n",
            "  File \"/usr/local/lib/python3.10/dist-packages/nbconvert/nbconvertapp.py\", line 423, in start\n",
            "    self.convert_notebooks()\n",
            "  File \"/usr/local/lib/python3.10/dist-packages/nbconvert/nbconvertapp.py\", line 597, in convert_notebooks\n",
            "    self.convert_single_notebook(notebook_filename)\n",
            "  File \"/usr/local/lib/python3.10/dist-packages/nbconvert/nbconvertapp.py\", line 560, in convert_single_notebook\n",
            "    output, resources = self.export_single_notebook(\n",
            "  File \"/usr/local/lib/python3.10/dist-packages/nbconvert/nbconvertapp.py\", line 488, in export_single_notebook\n",
            "    output, resources = self.exporter.from_filename(\n",
            "  File \"/usr/local/lib/python3.10/dist-packages/nbconvert/exporters/exporter.py\", line 188, in from_filename\n",
            "    with open(filename, encoding=\"utf-8\") as f:\n",
            "IsADirectoryError: [Errno 21] Is a directory: '/content/drive/MyDrive/Colab Notebooks/algoritmo'\n"
          ]
        },
        {
          "output_type": "error",
          "ename": "AttributeError",
          "evalue": "'NoneType' object has no attribute 'loader'",
          "traceback": [
            "\u001b[0;31m---------------------------------------------------------------------------\u001b[0m",
            "\u001b[0;31mAttributeError\u001b[0m                            Traceback (most recent call last)",
            "\u001b[0;32m<ipython-input-15-d4d87f96d7ea>\u001b[0m in \u001b[0;36m<cell line: 29>\u001b[0;34m()\u001b[0m\n\u001b[1;32m     27\u001b[0m \u001b[0;31m# Importar o script Python gerado\u001b[0m\u001b[0;34m\u001b[0m\u001b[0;34m\u001b[0m\u001b[0m\n\u001b[1;32m     28\u001b[0m \u001b[0mspec\u001b[0m \u001b[0;34m=\u001b[0m \u001b[0mimportlib\u001b[0m\u001b[0;34m.\u001b[0m\u001b[0mutil\u001b[0m\u001b[0;34m.\u001b[0m\u001b[0mspec_from_file_location\u001b[0m\u001b[0;34m(\u001b[0m\u001b[0;34m\"tdd_module\"\u001b[0m\u001b[0;34m,\u001b[0m \u001b[0mcaminho_py\u001b[0m\u001b[0;34m)\u001b[0m\u001b[0;34m\u001b[0m\u001b[0;34m\u001b[0m\u001b[0m\n\u001b[0;32m---> 29\u001b[0;31m \u001b[0mtdd_module\u001b[0m \u001b[0;34m=\u001b[0m \u001b[0mimportlib\u001b[0m\u001b[0;34m.\u001b[0m\u001b[0mutil\u001b[0m\u001b[0;34m.\u001b[0m\u001b[0mmodule_from_spec\u001b[0m\u001b[0;34m(\u001b[0m\u001b[0mspec\u001b[0m\u001b[0;34m)\u001b[0m\u001b[0;34m\u001b[0m\u001b[0;34m\u001b[0m\u001b[0m\n\u001b[0m\u001b[1;32m     30\u001b[0m \u001b[0mspec\u001b[0m\u001b[0;34m.\u001b[0m\u001b[0mloader\u001b[0m\u001b[0;34m.\u001b[0m\u001b[0mexec_module\u001b[0m\u001b[0;34m(\u001b[0m\u001b[0mtdd_module\u001b[0m\u001b[0;34m)\u001b[0m\u001b[0;34m\u001b[0m\u001b[0;34m\u001b[0m\u001b[0m\n",
            "\u001b[0;32m/usr/lib/python3.10/importlib/_bootstrap.py\u001b[0m in \u001b[0;36mmodule_from_spec\u001b[0;34m(spec)\u001b[0m\n",
            "\u001b[0;31mAttributeError\u001b[0m: 'NoneType' object has no attribute 'loader'"
          ]
        }
      ]
    },
    {
      "cell_type": "code",
      "source": [
        "import unittest\n",
        "\n",
        "class TestFuncoesAleatorias(unittest.TestCase):\n",
        "\n",
        "    def test_gerar_lista_aleatoria(self):\n",
        "        lista = tdd_module.gerar_lista_aleatoria()\n",
        "        self.assertEqual(len(lista), 28)\n",
        "        for num in lista:\n",
        "            self.assertTrue(1 <= num <= 100)\n",
        "\n",
        "    def test_gerar_lista_aleatoria_distintos(self):\n",
        "        lista = tdd_module.gerar_lista_aleatoria_distintos()\n",
        "        self.assertEqual(len(lista), 28)\n",
        "        self.assertEqual(len(set(lista)), 28)  # Verifica se todos os elementos são únicos\n",
        "        for num in lista:\n",
        "            self.assertTrue(1 <= num <= 100)\n",
        "\n",
        "    def test_embaralhar_lista(self):\n",
        "        lista_original = [i for i in range(1, 29)]\n",
        "        lista_embaralhada = tdd_module.embaralhar_lista(lista_original.copy())\n",
        "\n",
        "        self.assertEqual(len(lista_embaralhada), 28)\n",
        "        self.assertCountEqual(lista_original, lista_embaralhada)  # Verifica se contém os mesmos elementos\n",
        "        self.assertNotEqual(lista_original, lista_embaralhada)  # Verifica se a ordem é diferente\n",
        "\n",
        "if __name__ == '__main__':\n",
        "    unittest.main(argv=[''], verbosity=2, exit=False)"
      ],
      "metadata": {
        "colab": {
          "base_uri": "https://localhost:8080/"
        },
        "id": "W6feClfWtJAt",
        "outputId": "4d8973da-3403-483b-9843-a14ca1497ae5"
      },
      "execution_count": 14,
      "outputs": [
        {
          "output_type": "stream",
          "name": "stderr",
          "text": [
            "test_embaralhar_lista (__main__.TestFuncoesAleatorias) ... ERROR\n",
            "test_gerar_lista_aleatoria (__main__.TestFuncoesAleatorias) ... ERROR\n",
            "test_gerar_lista_aleatoria_distintos (__main__.TestFuncoesAleatorias) ... ERROR\n",
            "\n",
            "======================================================================\n",
            "ERROR: test_embaralhar_lista (__main__.TestFuncoesAleatorias)\n",
            "----------------------------------------------------------------------\n",
            "Traceback (most recent call last):\n",
            "  File \"<ipython-input-14-95944da23ddd>\", line 20, in test_embaralhar_lista\n",
            "    lista_embaralhada = tdd_module.embaralhar_lista(lista_original.copy())\n",
            "AttributeError: module 'tdd_module' has no attribute 'embaralhar_lista'\n",
            "\n",
            "======================================================================\n",
            "ERROR: test_gerar_lista_aleatoria (__main__.TestFuncoesAleatorias)\n",
            "----------------------------------------------------------------------\n",
            "Traceback (most recent call last):\n",
            "  File \"<ipython-input-14-95944da23ddd>\", line 6, in test_gerar_lista_aleatoria\n",
            "    lista = tdd_module.gerar_lista_aleatoria()\n",
            "AttributeError: module 'tdd_module' has no attribute 'gerar_lista_aleatoria'\n",
            "\n",
            "======================================================================\n",
            "ERROR: test_gerar_lista_aleatoria_distintos (__main__.TestFuncoesAleatorias)\n",
            "----------------------------------------------------------------------\n",
            "Traceback (most recent call last):\n",
            "  File \"<ipython-input-14-95944da23ddd>\", line 12, in test_gerar_lista_aleatoria_distintos\n",
            "    lista = tdd_module.gerar_lista_aleatoria_distintos()\n",
            "AttributeError: module 'tdd_module' has no attribute 'gerar_lista_aleatoria_distintos'\n",
            "\n",
            "----------------------------------------------------------------------\n",
            "Ran 3 tests in 0.013s\n",
            "\n",
            "FAILED (errors=3)\n"
          ]
        }
      ]
    }
  ]
}