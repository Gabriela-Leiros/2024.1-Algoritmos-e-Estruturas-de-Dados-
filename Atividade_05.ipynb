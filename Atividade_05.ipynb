{
  "nbformat": 4,
  "nbformat_minor": 0,
  "metadata": {
    "colab": {
      "provenance": [],
      "authorship_tag": "ABX9TyOtdp1wsTGHDDYoXqcofxBX",
      "include_colab_link": true
    },
    "kernelspec": {
      "name": "python3",
      "display_name": "Python 3"
    },
    "language_info": {
      "name": "python"
    }
  },
  "cells": [
    {
      "cell_type": "markdown",
      "metadata": {
        "id": "view-in-github",
        "colab_type": "text"
      },
      "source": [
        "<a href=\"https://colab.research.google.com/github/Gabriela-Leiros/2024.1-Algoritmos-e-Estruturas-de-Dados-Gabriela-Leiros/blob/main/Atividade_05.ipynb\" target=\"_parent\"><img src=\"https://colab.research.google.com/assets/colab-badge.svg\" alt=\"Open In Colab\"/></a>"
      ]
    },
    {
      "cell_type": "code",
      "execution_count": 8,
      "metadata": {
        "colab": {
          "base_uri": "https://localhost:8080/"
        },
        "id": "Udj4EcPWmT74",
        "outputId": "8a52ee76-cd56-4186-cfc2-a5fdf67feb3a"
      },
      "outputs": [
        {
          "output_type": "stream",
          "name": "stdout",
          "text": [
            "Digite um número qulaquer: -10\n",
            "90\n"
          ]
        }
      ],
      "source": [
        "#Crie um programa que leia um número inteiro. Quando este for negativo, some-o com 100; quando positivo, apenas faça sua impressão.\n",
        "\n",
        "n= int(input(\"Digite um número qulaquer: \"))\n",
        "if n >= 0:\n",
        "  print(n)\n",
        "else:\n",
        "  print(n + 100)"
      ]
    },
    {
      "cell_type": "code",
      "source": [
        "#Questão 2\n",
        "\n",
        "cursos = {\n",
        "\"Técnico em Informática Subseqüente\"\n",
        "\"Técnico em Informática EJA\"\n",
        "\"Técnico em Cooperativismo\"\n",
        "\"Técnico em Cooperativismo EJA\"\n",
        "\"Licenciatura em Física\"\n",
        "}\n",
        "\n",
        "curso= (input(\"Digite o nome do seu curso: \"))\n",
        "if curso in cursos:\n",
        "  print(\"Este é o seu curso!\")\n",
        "else:\n",
        "  print(\"Alerta vermelho: Este curso não está registrado\")"
      ],
      "metadata": {
        "colab": {
          "base_uri": "https://localhost:8080/"
        },
        "id": "4rvoMufYoV5j",
        "outputId": "a624f9ab-f5cb-4a4e-aa8d-b875628dec26"
      },
      "execution_count": 15,
      "outputs": [
        {
          "output_type": "stream",
          "name": "stdout",
          "text": [
            "Digite o nome do seu curso: licenciatura em física\n",
            "Alerta vermelho: Este curso não está registrado\n"
          ]
        }
      ]
    },
    {
      "cell_type": "code",
      "source": [
        "#Questão 3"
      ],
      "metadata": {
        "id": "YVRBAA5erOok"
      },
      "execution_count": null,
      "outputs": []
    },
    {
      "cell_type": "code",
      "source": [
        "#Questão 4"
      ],
      "metadata": {
        "id": "LrQ3OhvdrRs1"
      },
      "execution_count": null,
      "outputs": []
    },
    {
      "cell_type": "code",
      "source": [
        "#Questão 5"
      ],
      "metadata": {
        "id": "gI_KzJdOrVrU"
      },
      "execution_count": null,
      "outputs": []
    }
  ]
}